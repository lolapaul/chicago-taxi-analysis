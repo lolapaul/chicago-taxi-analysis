{
 "cells": [
  {
   "cell_type": "markdown",
   "metadata": {},
   "source": [
    "# ¡Hola David!\n",
    "\n",
    "Mi nombre es Ezequiel Ferrario, soy code reviewer en Tripleten y tengo el agrado de revisar el proyecto que entregaste.\n",
    "\n",
    "Para simular la dinámica de un ambiente de trabajo, si veo algún error, en primer instancia solo los señalaré, dándote la oportunidad de encontrarlos y corregirlos por tu cuenta. En un trabajo real, el líder de tu equipo hará una dinámica similar. En caso de que no puedas resolver la tarea, te daré una información más precisa en la próxima revisión.\n",
    "\n",
    "Encontrarás mis comentarios más abajo - **por favor, no los muevas, no los modifiques ni los borres**.\n",
    "\n",
    "¿Cómo lo voy a hacer? Voy a leer detenidamente cada una de las implementaciones que has llevado a cabo para cumplir con lo solicitado. Verás los comentarios de esta forma:\n",
    "\n",
    "<div class=\"alert alert-block alert-success\">\n",
    "<b>Comentario del revisor</b> <a class=\"tocSkip\"></a>\n",
    "\n",
    "Si todo está perfecto.\n",
    "</div>\n",
    "\n",
    "\n",
    "<div class=\"alert alert-block alert-warning\">\n",
    "<b>Comentario del revisor</b> <a class=\"tocSkip\"></a>\n",
    "\n",
    "Si tu código está bien pero se puede mejorar o hay algún detalle que le hace falta. Se aceptan uno o dos comentarios de este tipo en el borrador, pero si hay más, deberá hacer las correcciones. Es como una tarea de prueba al solicitar un trabajo: muchos pequeños errores pueden hacer que un candidato sea rechazado.\n",
    "</div>\n",
    "\n",
    "<div class=\"alert alert-block alert-danger\">\n",
    "\n",
    "<b>Comentario del revisor</b> <a class=\"tocSkip\"></a>\n",
    "\n",
    "Si de pronto hace falta algo o existe algún problema con tu código o conclusiones.\n",
    "</div>\n",
    "\n",
    "Puedes responderme de esta forma\n",
    "\n",
    "<div class=\"alert alert-block alert-info\">\n",
    "<b>Respuesta del estudiante</b> <a class=\"tocSkip\"></a>\n",
    "\n",
    "Hola, muchas gracias por tus comentarios y la revisión.\n",
    "</div>\n",
    "\n",
    "¡Empecemos!"
   ]
  },
  {
   "cell_type": "markdown",
   "metadata": {},
   "source": [
    "<div class=\"alert alert-block alert-danger\">\n",
    "\n",
    "<b>Comentario general #1</b> <a class=\"tocSkip\"></a>\n",
    "\n",
    "David, hiciste un buen trabajo, donde abarcaste todos los puntos importantes del mismo y entendiste a nivel codigo que hacer en cada momento.\n",
    "\n",
    "A su vez destaco tus analisis como el ded las conclusiones de hipotesis que estan muy buenas y bien redactadas.\n",
    "\n",
    "Las correcciones son detalles mas que nada de estrutura y forma del EDA.\n",
    "\n",
    "Corregiendo eso finalizaremos el proyecto.\n",
    "\n",
    "Espero tus correcciones, saludos.</div>\n",
    "\n",
    "<div class=\"alert alert-block alert-danger\">\n",
    "\n",
    "<b>Comentario general #2</b> <a class=\"tocSkip\"></a>\n",
    "\n",
    "David, no se puede avanzar con la correcion debido a que las rutas no son las correctas.\n",
    "    \n",
    "Corrigiendo eso podemos seguir con el proyecto.\n",
    "\n",
    "Espero tus correcciones, saludos.</div>"
   ]
  },
  {
   "cell_type": "markdown",
   "metadata": {},
   "source": [
    "<div class=\"alert alert-block alert-info\">\n",
    "<b>Respuesta del estudiante</b> <a class=\"tocSkip\"></a>\n",
    "\n",
    "Hola Ezquiel. Estoy buscando la ruta de los archivos pero no la encuentro, y ya envie mensaje a soporte y no dan respuesta, esa es la única que tengo, me la podrías proporcionar para poder hacer la correción.\n",
    "    \n",
    "Te agradezco\n",
    "</div>\n",
    "<div class=\"alert alert-block alert-danger\">\n",
    "\n",
    "<b>Comentario general #3</b> <a class=\"tocSkip\"></a>\n",
    "\n",
    "David, la correccion se mantiene. En el caso anterior te lo deje en la correccion de esa celda las rutas correcta, quizas no las viste. No hay ningun problema, te dejo aca nuevamente las rutas para que quede mas claro.\n",
    "   \n",
    "\n",
    "    \"/datasets/project_sql_result_01.csv\"\n",
    "    \"/datasets/project_sql_result_04.csv\"\n",
    "    \"/datasets/project_sql_result_07.csv\"\n",
    "    \n",
    "Saludos.\n",
    "</div>"
   ]
  },
  {
   "cell_type": "markdown",
   "metadata": {},
   "source": [
    "<div class=\"alert alert-block alert-info\">\n",
    "<b>Respuesta del estudiante</b> <a class=\"tocSkip\"></a>\n",
    "\n",
    "Hola Ezquiel. Estoy buscando la ruta de los archivos pero no la encuentro, y ya envie mensaje a soporte y no dan respuesta, esa es la única que tengo, me la podrías proporcionar para poder hacer la correción."
   ]
  },
  {
   "cell_type": "markdown",
   "metadata": {},
   "source": [
    "<div class=\"alert alert-block alert-success\">\n",
    "\n",
    "<b>Comentario general #4</b> <a class=\"tocSkip\"></a>\n",
    "    \n",
    "David, hiciste un excelente trabajo con las correcciones y cargado el dataset el resto de puntos los corregiste de forma excelente.\n",
    "\n",
    "Asi, finalizas un gran trabajo. Donde manejaste de forma excelente Levene y la prueba estadistica. Entendiste como utilizar los graficos y realizaste una gran exploracion inicial.\n",
    "    \n",
    "Por lo dicho el trabajo pasa a estar **aprobado**.\n",
    "    \n",
    "    \n",
    "Exitos en lo que viene, saludos.\n",
    "    \n",
    "    \n",
    "    \n",
    "\n",
    "\n",
    "</div>"
   ]
  },
  {
   "cell_type": "markdown",
   "metadata": {},
   "source": [
    "<div class=\"alert alert-block alert-danger\">\n",
    "\n",
    "<b>Comentario del revisor</b> <a class=\"tocSkip\"></a>\n",
    "\n",
    "Hace una tabla de contenidos que este  linkeada a las secciones (al clickear debe llevarnos a esa seccion) de esta menera es mas facil desplazarse.\n",
    "\n",
    "Como consejo, si realizas bien todas las secciones (con su respectivo #) podes generarlo automáticamente desde jupyter lab. Para hacerlo, en la pestaña de herramientas de jupyter lab clickeas en el **botón de los puntos y barras**  (Table of contents) te generara automáticamente una tabla de contenidos linkeable y estética. A la **derecha** del botón \"Validate\"\n",
    "</div>\n",
    "\n",
    "<div class=\"alert alert-block alert-success\">\n",
    "\n",
    "<b>Comentario del revisor #2</b> <a class=\"tocSkip\"></a>\n",
    "\n",
    "Corregido.</div>"
   ]
  },
  {
   "cell_type": "markdown",
   "metadata": {},
   "source": [
    "<div class=\"alert alert-block alert-danger\">\n",
    "\n",
    "<b>Comentario del revisor</b> <a class=\"tocSkip\"></a>\n",
    "\n",
    "David, recorda realizar una introduccion al proyecto, explicando los objetivos y explicando de que se trata. Esto es muy importante de hacer para asentar las bases del proyecto, ademas de dejar en claro que se busca. A partir de una mirada a la introduccion ya entenderemos que buscamos con el proyecto.</div>\n",
    "\n",
    "<div class=\"alert alert-block alert-success\">\n",
    "\n",
    "<b>Comentario del revisor #2</b> <a class=\"tocSkip\"></a>\n",
    "\n",
    "Corregido.</div>"
   ]
  },
  {
   "cell_type": "markdown",
   "metadata": {},
   "source": [
    "## Introducción"
   ]
  },
  {
   "cell_type": "markdown",
   "metadata": {},
   "source": [
    "El objetivo es encontrar los patrones en la información disponible y comprender el comportamiento de los viajes en taxi realizados desde el barrio de Loop hasta el Aeropuerto Internacional O'Hare y como las condiciones metereológicas los afectan.\n",
    "\n",
    "Para ello, realizaré un EDA (exploratory data analysis) y plantearé una hipótesis que se buscará validar o rechazar.\n",
    "\n"
   ]
  },
  {
   "cell_type": "markdown",
   "metadata": {},
   "source": [
    "## Análisis exploratorio de datos"
   ]
  },
  {
   "cell_type": "markdown",
   "metadata": {},
   "source": [
    "<div class=\"alert alert-block alert-danger\">\n",
    "\n",
    "<b>Comentario del revisor</b> <a class=\"tocSkip\"></a>\n",
    "\n",
    "Crea una seccion (Titulo) que se llame Carga de datasets e importacion de librerias (o el titulo que quieras pero que refiera a este punto). Es importante a nivel estructura que quede claro que parte se realizan ambas cosas.</div>\n",
    "\n",
    "<div class=\"alert alert-block alert-success\">\n",
    "\n",
    "<b>Comentario del revisor #2</b> <a class=\"tocSkip\"></a>\n",
    "\n",
    "Corregido.</div>"
   ]
  },
  {
   "cell_type": "markdown",
   "metadata": {},
   "source": [
    "### Carga de data sets e importación de librerias"
   ]
  },
  {
   "cell_type": "code",
   "execution_count": 1,
   "metadata": {},
   "outputs": [],
   "source": [
    "# Importar librerias\n",
    "import pandas as pd\n",
    "import numpy as np\n",
    "import matplotlib.pyplot as plt\n",
    "import seaborn as sns\n",
    "import scipy.stats\n",
    "from scipy.stats import bartlett\n",
    "\n"
   ]
  },
  {
   "cell_type": "code",
   "execution_count": 2,
   "metadata": {},
   "outputs": [],
   "source": [
    "# Importar bases de datos\n",
    "\n",
    "cabs_trips = pd.read_csv('/datasets/project_sql_result_01.csv')\n",
    "location_trips = pd.read_csv('/datasets/project_sql_result_04.csv')\n",
    "trip_airport = pd.read_csv('/datasets/project_sql_result_07.csv')"
   ]
  },
  {
   "cell_type": "markdown",
   "metadata": {},
   "source": [
    "<div class=\"alert alert-block alert-danger\">\n",
    "\n",
    "<b>Comentario del revisor</b> <a class=\"tocSkip\"></a>\n",
    "\n",
    "Utiliza la ruta en linea que ofrece Tripleten, de esta forma siempre podemos ejecutar de forma remota el proyecto (Y hacer los cambios en cualquier parte)..</div>"
   ]
  },
  {
   "cell_type": "markdown",
   "metadata": {},
   "source": [
    "<div class=\"alert alert-block alert-danger\">\n",
    "\n",
    "<b>Comentario del revisor</b> <a class=\"tocSkip\"></a>\n",
    "\n",
    "Esta celda dedicala exclusivamente a la carga de datasets, por lo que debes cargar **todos** los datasets existentes en esta celda. Esto debido a que constituye una buena practica, ya que al comienzo del notebook ya estaria todo ejecutado y ante cualquier cambio lo tenemos de facil acceso.</div>\n",
    "\n",
    "<div class=\"alert alert-block alert-danger\">\n",
    "\n",
    "<b>Comentario del revisor #2</b> <a class=\"tocSkip\"></a>\n",
    "\n",
    "Cuidado, no estas llamando la ruta correcta por lo que tu proyecto no puede ejecutarse. A continuacion te proporciono las rutas correctas:\n",
    "\n",
    "    \"/datasets/project_sql_result_01.csv\"\n",
    "    \"/datasets/project_sql_result_04.csv\"\n",
    "    \"/datasets/project_sql_result_07.csv\"\n",
    "    \n",
    "    \n",
    "Con eso no tendras problemas.\n",
    "</div>\n",
    "\n",
    "<div class=\"alert alert-block alert-danger\">\n",
    "\n",
    "<b>Comentario del revisor #3</b> <a class=\"tocSkip\"></a>\n",
    "\n",
    "David, en este caso no estas utilizando la ubicacion correcta ya que incluis **moved_** que no iria, te las dejo aca nuevamente:\n",
    "\n",
    "    \"/datasets/project_sql_result_01.csv\"\n",
    "    \"/datasets/project_sql_result_04.csv\"\n",
    "    \"/datasets/project_sql_result_07.csv\"\n",
    "    \n",
    "    \n",
    "Con eso no tendras problemas.\n",
    "</div>\n",
    "\n",
    "\n",
    "<div class=\"alert alert-block alert-success\">\n",
    "\n",
    "<b>Comentario del revisor #4</b> <a class=\"tocSkip\"></a>\n",
    "    \n",
    "Corregido, muy bien.\n",
    "</div>"
   ]
  },
  {
   "cell_type": "markdown",
   "metadata": {},
   "source": [
    "<div class=\"alert alert-block alert-warning\">\n",
    "\n",
    "<b>Comentario del revisor</b> <a class=\"tocSkip\"></a>\n",
    "\n",
    "Crea una seccion (Con #) que haga referencia a la exploracion inicial de datos, asi queda clara cada seccion del proyecto.</div>"
   ]
  },
  {
   "cell_type": "code",
   "execution_count": 3,
   "metadata": {},
   "outputs": [
    {
     "name": "stdout",
     "output_type": "stream",
     "text": [
      "Name base -> moved_project_sql_result_01.csv\n",
      "                      company_name  trips_amount\n",
      "0                        Flash Cab         19558\n",
      "1        Taxi Affiliation Services         11422\n",
      "2                Medallion Leasing         10367\n",
      "3                       Yellow Cab          9888\n",
      "4  Taxi Affiliation Service Yellow          9299\n",
      "*****************************************************************\n",
      "Name base -> moved_project_sql_result_04.csv\n",
      "  dropoff_location_name  average_trips\n",
      "0                  Loop   10727.466667\n",
      "1           River North    9523.666667\n",
      "2         Streeterville    6664.666667\n",
      "3             West Loop    5163.666667\n",
      "4                O'Hare    2546.900000\n"
     ]
    }
   ],
   "source": [
    "# Revisar bases de datos importadas\n",
    "print(\"Name base -> moved_project_sql_result_01.csv\")\n",
    "print(cabs_trips.head())\n",
    "print(\"*****************************************************************\")\n",
    "\n",
    "print(\"Name base -> moved_project_sql_result_04.csv\")\n",
    "print(location_trips.head())"
   ]
  },
  {
   "cell_type": "markdown",
   "metadata": {},
   "source": [
    "/datasets/project_sql_result_01.csv. contiene los siguientes datos:\n",
    "\n",
    "* company_name: nombre de la empresa de taxis\n",
    "\n",
    "* trips_amount: el número de viajes de cada compañía de taxis el 15 y 16 de noviembre de 2017. \n",
    "\n",
    "/datasets/project_sql_result_04.csv. contiene los siguientes datos:\n",
    "\n",
    "* dropoff_location_name: barrios de Chicago donde finalizaron los viajes\n",
    "\n",
    "* average_trips: el promedio de viajes que terminaron en cada barrio en noviembre de 2017."
   ]
  },
  {
   "cell_type": "code",
   "execution_count": 4,
   "metadata": {},
   "outputs": [
    {
     "name": "stdout",
     "output_type": "stream",
     "text": [
      "<class 'pandas.core.frame.DataFrame'>\n",
      "RangeIndex: 64 entries, 0 to 63\n",
      "Data columns (total 2 columns):\n",
      " #   Column        Non-Null Count  Dtype \n",
      "---  ------        --------------  ----- \n",
      " 0   company_name  64 non-null     object\n",
      " 1   trips_amount  64 non-null     int64 \n",
      "dtypes: int64(1), object(1)\n",
      "memory usage: 1.1+ KB\n"
     ]
    }
   ],
   "source": [
    "# Revisar tipo de datos, si existen valores ausentes y cantidad de datos de dataframa cabs_trips\n",
    "\n",
    "cabs_trips.info()"
   ]
  },
  {
   "cell_type": "code",
   "execution_count": 5,
   "metadata": {},
   "outputs": [
    {
     "name": "stdout",
     "output_type": "stream",
     "text": [
      "0\n"
     ]
    }
   ],
   "source": [
    "# Revisar si hay duplicados en la base de datos cabs_trips\n",
    "duplicates = cabs_trips['company_name'].duplicated().sum()\n",
    "print(duplicates)"
   ]
  },
  {
   "cell_type": "code",
   "execution_count": 6,
   "metadata": {},
   "outputs": [
    {
     "data": {
      "text/html": [
       "<div>\n",
       "<style scoped>\n",
       "    .dataframe tbody tr th:only-of-type {\n",
       "        vertical-align: middle;\n",
       "    }\n",
       "\n",
       "    .dataframe tbody tr th {\n",
       "        vertical-align: top;\n",
       "    }\n",
       "\n",
       "    .dataframe thead th {\n",
       "        text-align: right;\n",
       "    }\n",
       "</style>\n",
       "<table border=\"1\" class=\"dataframe\">\n",
       "  <thead>\n",
       "    <tr style=\"text-align: right;\">\n",
       "      <th></th>\n",
       "      <th>trips_amount</th>\n",
       "    </tr>\n",
       "  </thead>\n",
       "  <tbody>\n",
       "    <tr>\n",
       "      <th>count</th>\n",
       "      <td>64.000000</td>\n",
       "    </tr>\n",
       "    <tr>\n",
       "      <th>mean</th>\n",
       "      <td>2145.484375</td>\n",
       "    </tr>\n",
       "    <tr>\n",
       "      <th>std</th>\n",
       "      <td>3812.310186</td>\n",
       "    </tr>\n",
       "    <tr>\n",
       "      <th>min</th>\n",
       "      <td>2.000000</td>\n",
       "    </tr>\n",
       "    <tr>\n",
       "      <th>25%</th>\n",
       "      <td>20.750000</td>\n",
       "    </tr>\n",
       "    <tr>\n",
       "      <th>50%</th>\n",
       "      <td>178.500000</td>\n",
       "    </tr>\n",
       "    <tr>\n",
       "      <th>75%</th>\n",
       "      <td>2106.500000</td>\n",
       "    </tr>\n",
       "    <tr>\n",
       "      <th>max</th>\n",
       "      <td>19558.000000</td>\n",
       "    </tr>\n",
       "  </tbody>\n",
       "</table>\n",
       "</div>"
      ],
      "text/plain": [
       "       trips_amount\n",
       "count     64.000000\n",
       "mean    2145.484375\n",
       "std     3812.310186\n",
       "min        2.000000\n",
       "25%       20.750000\n",
       "50%      178.500000\n",
       "75%     2106.500000\n",
       "max    19558.000000"
      ]
     },
     "execution_count": 6,
     "metadata": {},
     "output_type": "execute_result"
    }
   ],
   "source": [
    "# Exploración de variables númericas\n",
    "cabs_trips.describe()"
   ]
  },
  {
   "cell_type": "markdown",
   "metadata": {},
   "source": [
    "<div class=\"alert alert-block alert-danger\">\n",
    "\n",
    "<b>Comentario del revisor</b> <a class=\"tocSkip\"></a>\n",
    "\n",
    "Recorda utilizar el metodo describe() para una exploracion rapida inicial de aquellas variables numéricas. Siempre es necesario realizarlo ya que de forma rápida tenemos un panorama muy bueno de que nos espera e incluso encontraremos inconsistencias si estas existiencen.\n",
    "Describí al respecto lo que ves. </div>\n",
    "\n",
    "<div class=\"alert alert-block alert-success\">\n",
    "​\n",
    "<b>Comentario del revisor #4</b> <a class=\"tocSkip\"></a>\n",
    "    \n",
    "Corregido, muy bien.\n",
    "</div>"
   ]
  },
  {
   "cell_type": "markdown",
   "metadata": {},
   "source": [
    "El tipo de datos es correcto para la información que representa cada columna, no tenemos valores ausentes ni tampoco duplicados"
   ]
  },
  {
   "cell_type": "code",
   "execution_count": 7,
   "metadata": {},
   "outputs": [
    {
     "name": "stdout",
     "output_type": "stream",
     "text": [
      "<class 'pandas.core.frame.DataFrame'>\n",
      "RangeIndex: 94 entries, 0 to 93\n",
      "Data columns (total 2 columns):\n",
      " #   Column                 Non-Null Count  Dtype  \n",
      "---  ------                 --------------  -----  \n",
      " 0   dropoff_location_name  94 non-null     object \n",
      " 1   average_trips          94 non-null     float64\n",
      "dtypes: float64(1), object(1)\n",
      "memory usage: 1.6+ KB\n"
     ]
    }
   ],
   "source": [
    "# Revisar tipo de datos, si existen valores ausentes y cantidad de datos de dataframa location_trips\n",
    "\n",
    "location_trips.info()"
   ]
  },
  {
   "cell_type": "markdown",
   "metadata": {},
   "source": [
    "<div class=\"alert alert-block alert-danger\">\n",
    "\n",
    "<b>Comentario del revisor</b> <a class=\"tocSkip\"></a>\n",
    "\n",
    "Recorda utilizar el metodo describe() para una exploracion rapida inicial de aquellas variables numéricas. Siempre es necesario realizarlo ya que de forma rápida tenemos un panorama muy bueno de que nos espera e incluso encontraremos inconsistencias si estas existiencen.\n",
    "Describí al respecto lo que ves. </div>\n",
    "<div class=\"alert alert-block alert-success\">\n",
    "​\n",
    "<b>Comentario del revisor #4</b> <a class=\"tocSkip\"></a>\n",
    "    \n",
    "Corregido, muy bien.\n",
    "</div>"
   ]
  },
  {
   "cell_type": "code",
   "execution_count": 8,
   "metadata": {},
   "outputs": [],
   "source": [
    "# Modificar los datatypes de las bases de datos location_trips\n",
    "location_trips['average_trips'] = location_trips['average_trips'].astype(int)\n"
   ]
  },
  {
   "cell_type": "code",
   "execution_count": 9,
   "metadata": {},
   "outputs": [
    {
     "name": "stdout",
     "output_type": "stream",
     "text": [
      "<class 'pandas.core.frame.DataFrame'>\n",
      "RangeIndex: 94 entries, 0 to 93\n",
      "Data columns (total 2 columns):\n",
      " #   Column                 Non-Null Count  Dtype \n",
      "---  ------                 --------------  ----- \n",
      " 0   dropoff_location_name  94 non-null     object\n",
      " 1   average_trips          94 non-null     int64 \n",
      "dtypes: int64(1), object(1)\n",
      "memory usage: 1.6+ KB\n"
     ]
    }
   ],
   "source": [
    "# Revisar si quedo realizado el cambio de datatypes\n",
    "location_trips.info()"
   ]
  },
  {
   "cell_type": "code",
   "execution_count": 10,
   "metadata": {},
   "outputs": [
    {
     "name": "stdout",
     "output_type": "stream",
     "text": [
      "0\n"
     ]
    }
   ],
   "source": [
    "# Revisar si hay duplicados en la base de datos location_trips\n",
    "duplicates = location_trips['dropoff_location_name'].duplicated().sum()\n",
    "print(duplicates)"
   ]
  },
  {
   "cell_type": "code",
   "execution_count": 11,
   "metadata": {},
   "outputs": [
    {
     "data": {
      "text/html": [
       "<div>\n",
       "<style scoped>\n",
       "    .dataframe tbody tr th:only-of-type {\n",
       "        vertical-align: middle;\n",
       "    }\n",
       "\n",
       "    .dataframe tbody tr th {\n",
       "        vertical-align: top;\n",
       "    }\n",
       "\n",
       "    .dataframe thead th {\n",
       "        text-align: right;\n",
       "    }\n",
       "</style>\n",
       "<table border=\"1\" class=\"dataframe\">\n",
       "  <thead>\n",
       "    <tr style=\"text-align: right;\">\n",
       "      <th></th>\n",
       "      <th>trips_amount</th>\n",
       "    </tr>\n",
       "  </thead>\n",
       "  <tbody>\n",
       "    <tr>\n",
       "      <th>count</th>\n",
       "      <td>64.000000</td>\n",
       "    </tr>\n",
       "    <tr>\n",
       "      <th>mean</th>\n",
       "      <td>2145.484375</td>\n",
       "    </tr>\n",
       "    <tr>\n",
       "      <th>std</th>\n",
       "      <td>3812.310186</td>\n",
       "    </tr>\n",
       "    <tr>\n",
       "      <th>min</th>\n",
       "      <td>2.000000</td>\n",
       "    </tr>\n",
       "    <tr>\n",
       "      <th>25%</th>\n",
       "      <td>20.750000</td>\n",
       "    </tr>\n",
       "    <tr>\n",
       "      <th>50%</th>\n",
       "      <td>178.500000</td>\n",
       "    </tr>\n",
       "    <tr>\n",
       "      <th>75%</th>\n",
       "      <td>2106.500000</td>\n",
       "    </tr>\n",
       "    <tr>\n",
       "      <th>max</th>\n",
       "      <td>19558.000000</td>\n",
       "    </tr>\n",
       "  </tbody>\n",
       "</table>\n",
       "</div>"
      ],
      "text/plain": [
       "       trips_amount\n",
       "count     64.000000\n",
       "mean    2145.484375\n",
       "std     3812.310186\n",
       "min        2.000000\n",
       "25%       20.750000\n",
       "50%      178.500000\n",
       "75%     2106.500000\n",
       "max    19558.000000"
      ]
     },
     "execution_count": 11,
     "metadata": {},
     "output_type": "execute_result"
    }
   ],
   "source": [
    "# Exploración de variables númericas\n",
    "cabs_trips.describe()"
   ]
  },
  {
   "cell_type": "markdown",
   "metadata": {},
   "source": [
    "Se modifico el datatype de la columna average_trips porque tenia decimales y pues no puede haber un .2 o .34 viajes completo, entonces lo pasamos a interger. La base no tiene valores ausentes y tampoco duplicados."
   ]
  },
  {
   "cell_type": "markdown",
   "metadata": {},
   "source": [
    "<div class=\"alert alert-block alert-danger\">\n",
    "\n",
    "<b>Comentario del revisor</b> <a class=\"tocSkip\"></a>\n",
    "\n",
    "Crea una seccion (Con #) que haga referencia a la creacion de graficos del top 10 tanto de barrios como de compañias, esto es importante para la estructura del proyecto ya que asi queda clara cada seccion del mismo.</div>\n",
    "\n",
    "<div class=\"alert alert-block alert-success\">\n",
    "​\n",
    "<b>Comentario del revisor #4</b> <a class=\"tocSkip\"></a>\n",
    "    \n",
    "Corregido, muy bien.\n",
    "</div>"
   ]
  },
  {
   "cell_type": "code",
   "execution_count": 12,
   "metadata": {},
   "outputs": [
    {
     "name": "stdout",
     "output_type": "stream",
     "text": [
      "<class 'pandas.core.frame.DataFrame'>\n",
      "RangeIndex: 1068 entries, 0 to 1067\n",
      "Data columns (total 3 columns):\n",
      " #   Column              Non-Null Count  Dtype  \n",
      "---  ------              --------------  -----  \n",
      " 0   start_ts            1068 non-null   object \n",
      " 1   weather_conditions  1068 non-null   object \n",
      " 2   duration_seconds    1068 non-null   float64\n",
      "dtypes: float64(1), object(2)\n",
      "memory usage: 25.2+ KB\n"
     ]
    }
   ],
   "source": [
    "# Revisar tipo de datos, si existen valores ausentes y cantidad de datos de dataframa trip_airport\n",
    "\n",
    "trip_airport.info()"
   ]
  },
  {
   "cell_type": "code",
   "execution_count": 13,
   "metadata": {},
   "outputs": [],
   "source": [
    "# Cambiar el tipo de datos de start_ts a datetime\n",
    "trip_airport['start_ts'] = pd.to_datetime(trip_airport['start_ts'])"
   ]
  },
  {
   "cell_type": "code",
   "execution_count": 14,
   "metadata": {},
   "outputs": [
    {
     "name": "stdout",
     "output_type": "stream",
     "text": [
      "<class 'pandas.core.frame.DataFrame'>\n",
      "RangeIndex: 1068 entries, 0 to 1067\n",
      "Data columns (total 3 columns):\n",
      " #   Column              Non-Null Count  Dtype         \n",
      "---  ------              --------------  -----         \n",
      " 0   start_ts            1068 non-null   datetime64[ns]\n",
      " 1   weather_conditions  1068 non-null   object        \n",
      " 2   duration_seconds    1068 non-null   float64       \n",
      "dtypes: datetime64[ns](1), float64(1), object(1)\n",
      "memory usage: 25.2+ KB\n"
     ]
    }
   ],
   "source": [
    "# Revisar si quedo realizado el cambio de datatypes\n",
    "trip_airport.info()"
   ]
  },
  {
   "cell_type": "code",
   "execution_count": 15,
   "metadata": {},
   "outputs": [
    {
     "name": "stdout",
     "output_type": "stream",
     "text": [
      "987\n"
     ]
    }
   ],
   "source": [
    "# Revisar si hay duplicados en la base de datos trip_airport\n",
    "duplicates = trip_airport['start_ts'].duplicated().sum()\n",
    "print(duplicates)"
   ]
  },
  {
   "cell_type": "code",
   "execution_count": 16,
   "metadata": {},
   "outputs": [
    {
     "data": {
      "text/html": [
       "<div>\n",
       "<style scoped>\n",
       "    .dataframe tbody tr th:only-of-type {\n",
       "        vertical-align: middle;\n",
       "    }\n",
       "\n",
       "    .dataframe tbody tr th {\n",
       "        vertical-align: top;\n",
       "    }\n",
       "\n",
       "    .dataframe thead th {\n",
       "        text-align: right;\n",
       "    }\n",
       "</style>\n",
       "<table border=\"1\" class=\"dataframe\">\n",
       "  <thead>\n",
       "    <tr style=\"text-align: right;\">\n",
       "      <th></th>\n",
       "      <th>duration_seconds</th>\n",
       "    </tr>\n",
       "  </thead>\n",
       "  <tbody>\n",
       "    <tr>\n",
       "      <th>count</th>\n",
       "      <td>1068.000000</td>\n",
       "    </tr>\n",
       "    <tr>\n",
       "      <th>mean</th>\n",
       "      <td>2071.731273</td>\n",
       "    </tr>\n",
       "    <tr>\n",
       "      <th>std</th>\n",
       "      <td>769.461125</td>\n",
       "    </tr>\n",
       "    <tr>\n",
       "      <th>min</th>\n",
       "      <td>0.000000</td>\n",
       "    </tr>\n",
       "    <tr>\n",
       "      <th>25%</th>\n",
       "      <td>1438.250000</td>\n",
       "    </tr>\n",
       "    <tr>\n",
       "      <th>50%</th>\n",
       "      <td>1980.000000</td>\n",
       "    </tr>\n",
       "    <tr>\n",
       "      <th>75%</th>\n",
       "      <td>2580.000000</td>\n",
       "    </tr>\n",
       "    <tr>\n",
       "      <th>max</th>\n",
       "      <td>7440.000000</td>\n",
       "    </tr>\n",
       "  </tbody>\n",
       "</table>\n",
       "</div>"
      ],
      "text/plain": [
       "       duration_seconds\n",
       "count       1068.000000\n",
       "mean        2071.731273\n",
       "std          769.461125\n",
       "min            0.000000\n",
       "25%         1438.250000\n",
       "50%         1980.000000\n",
       "75%         2580.000000\n",
       "max         7440.000000"
      ]
     },
     "execution_count": 16,
     "metadata": {},
     "output_type": "execute_result"
    }
   ],
   "source": [
    "# Exploración de variables númericas\n",
    "trip_airport.describe()"
   ]
  },
  {
   "cell_type": "markdown",
   "metadata": {},
   "source": [
    "Se modifico el datatype de la columna start_ts a datatime para poder manipular la información de la fecha. No se tienen valores austentes, y respecto a los duplicados, es normal que en la columna start_ts existan porque esa base representa los viajes realizados y no es un único táxi, sino diferentes unidades, entonces esta bien que haya duplicados, no es necesario eliminarlos."
   ]
  },
  {
   "cell_type": "markdown",
   "metadata": {},
   "source": [
    "<div class=\"alert alert-block alert-success\">\n",
    "​\n",
    "<b>Comentario del revisor #4</b> <a class=\"tocSkip\"></a>\n",
    "    \n",
    "Excelente entendiendo la escencia de los duplicados.\n",
    "</div>"
   ]
  },
  {
   "cell_type": "markdown",
   "metadata": {},
   "source": [
    "### Los 10 principales barrios en términos de finalización del recorrido"
   ]
  },
  {
   "cell_type": "code",
   "execution_count": 17,
   "metadata": {},
   "outputs": [
    {
     "name": "stdout",
     "output_type": "stream",
     "text": [
      "dropoff_location_name\n",
      "Loop                  10727\n",
      "River North            9523\n",
      "Streeterville          6664\n",
      "West Loop              5163\n",
      "O'Hare                 2546\n",
      "Lake View              2420\n",
      "Grant Park             2068\n",
      "Museum Campus          1510\n",
      "Gold Coast             1364\n",
      "Sheffield & DePaul     1259\n",
      "Name: average_trips, dtype: int64\n"
     ]
    }
   ],
   "source": [
    "# Los 10 principales barrios en términos de finalización del recorrido\n",
    "top_10 = location_trips.groupby('dropoff_location_name')['average_trips'].sum().sort_values(ascending=False).head(10)\n",
    "print(top_10)\n"
   ]
  },
  {
   "cell_type": "markdown",
   "metadata": {},
   "source": [
    "### Gráficos top 10 cantidad de viajes por taxi y barrios en términos de finalización"
   ]
  },
  {
   "cell_type": "code",
   "execution_count": 18,
   "metadata": {
    "scrolled": false
   },
   "outputs": [
    {
     "data": {
      "image/png": "[encoded data removed]",
      "text/plain": [
       "<Figure size 864x576 with 1 Axes>"
      ]
     },
     "metadata": {
      "needs_background": "light"
     },
     "output_type": "display_data"
    }
   ],
   "source": [
    "# Gráfico de cabs_trips para ver la cantidad de viajes por compañia\n",
    "\n",
    "top_cabs_trips = cabs_trips.sort_values(by='trips_amount', ascending=False).head(10)\n",
    "\n",
    "plt.figure(figsize=(12, 8))\n",
    "sns.barplot(x='company_name', y='trips_amount', data=top_cabs_trips)\n",
    "plt.title('Cantidad de viajes por compañia el 15 y 16 de noviembre de 2017')\n",
    "plt.xlabel('Compañia')\n",
    "plt.ylabel('Cantidad de viajes')\n",
    "plt.xticks(rotation=90)\n",
    "plt.show()\n",
    "\n"
   ]
  },
  {
   "cell_type": "markdown",
   "metadata": {},
   "source": [
    "<div class=\"alert alert-block alert-danger\">\n",
    "\n",
    "<b>Comentario del revisor</b> <a class=\"tocSkip\"></a>\n",
    "\n",
    "En este caso el grafico esta bien realizado y aporta buena informacion.\n",
    "\n",
    "A nuestro cliente le interesa el top 10, por lo que podes modificar este grafico para visualizar ese top 10 o dejarlo y crear un nuevo para que se puede visualizar ese top 10, de esa manera se eliminaria el ruido a la hora del analisis.</div>\n",
    "\n",
    "<div class=\"alert alert-block alert-success\">\n",
    "​\n",
    "<b>Comentario del revisor #4</b> <a class=\"tocSkip\"></a>\n",
    "    \n",
    "Corregido, excelente.\n",
    "</div>"
   ]
  },
  {
   "cell_type": "code",
   "execution_count": 19,
   "metadata": {},
   "outputs": [
    {
     "data": {
      "image/png": "[encoded data removed]",
      "text/plain": [
       "<Figure size 864x576 with 1 Axes>"
      ]
     },
     "metadata": {
      "needs_background": "light"
     },
     "output_type": "display_data"
    }
   ],
   "source": [
    "# Gráfico de los 10 principales barrios en términos de finalización del recorrido\n",
    "plt.figure(figsize=(12, 8))\n",
    "sns.barplot(x=top_10.index, y=top_10.values)\n",
    "plt.title('Los 10 principales barrios en términos de finalización del recorrido en noviembre 2017')\n",
    "plt.xlabel('Barrios')\n",
    "plt.ylabel('Cantidad de viajes')\n",
    "plt.xticks(rotation=90)\n",
    "plt.show()"
   ]
  },
  {
   "cell_type": "markdown",
   "metadata": {},
   "source": [
    "Conclusiones basadas en los gráficos\n",
    "\n",
    "1. La compañia Flash Cab es la que más viajes realizó el 15 y 16 de noviembre 2017. No tenemos suficiente información, pero puede ser porque es la más económica, o la que tiene mayor cantidad de unidades o es la que da el mejor servicio, o alguna combinación de estas.\n",
    "\n",
    "2. El barrio más concurrido en noviembre fue Loop, seguido de River North y Streeterville. Puede ser que estos barrios son los que concentran la mayor cantidad de viviendas en Chicago, o es donde están los principales centros de trabajo, y pues en si todas estos son supuestos, necesitariamos mas información para averiguarlo.\n",
    "3. El barrio menos concurrido es Sheffield & DePaul. Tendriamos que tener más información, pero seria interesante averigurar que tipo de personas viven ahi, si son de nivel socioeconomico bajo o alto, o si ese barrio cuenta con mejor transporte público.\n",
    "4. La cantidad de viajes por compañia es muy variable en noviembre, esto puede ser debido a que hay una competencia muy fuerte entre las compañias de taxis, aunque necesitariamos la información de por lo menos todo un año para ver como se comportan cada mes, y poder sacar conclusiones más contudentes.\n",
    "\n"
   ]
  },
  {
   "cell_type": "markdown",
   "metadata": {},
   "source": [
    "## Prueba de hipótesis"
   ]
  },
  {
   "cell_type": "markdown",
   "metadata": {},
   "source": [
    "<div class=\"alert alert-block alert-danger\">\n",
    "\n",
    "<b>Comentario del revisor</b> <a class=\"tocSkip\"></a>\n",
    "\n",
    "Carga este dataset en la celda correspondiente (La del inicio). Esto es considerado una  buena practica ya que siempre queremos tener al principio todo cargado por si hay que hacer una modificacion en el futuro.</div>\n",
    "\n",
    "<div class=\"alert alert-block alert-success\">\n",
    "​\n",
    "<b>Comentario del revisor #4</b> <a class=\"tocSkip\"></a>\n",
    "    \n",
    "Corregido, muy bien.\n",
    "</div>"
   ]
  },
  {
   "cell_type": "code",
   "execution_count": 20,
   "metadata": {},
   "outputs": [
    {
     "name": "stdout",
     "output_type": "stream",
     "text": [
      "Name base -> moved_project_sql_result_07.csv\n",
      "             start_ts weather_conditions  duration_seconds\n",
      "0 2017-11-25 16:00:00               Good            2410.0\n",
      "1 2017-11-25 14:00:00               Good            1920.0\n",
      "2 2017-11-25 12:00:00               Good            1543.0\n",
      "3 2017-11-04 10:00:00               Good            2512.0\n",
      "4 2017-11-11 07:00:00               Good            1440.0\n"
     ]
    }
   ],
   "source": [
    "# Revisar base de datos para prueba de hipótesis\n",
    "print(\"Name base -> moved_project_sql_result_07.csv\")\n",
    "print(trip_airport.head())"
   ]
  },
  {
   "cell_type": "markdown",
   "metadata": {},
   "source": [
    "Contiene datos sobre viajes desde el Loop hasta el Aeropuerto Internacional O'Hare.\n",
    "Estos son los valores de campo de la tabla\n",
    "\n",
    "* start_ts: fecha y hora de la recogida\n",
    "\n",
    "* weather_conditions: condiciones climáticas en el momento en el que comenzó el viaje\n",
    "\n",
    "* duration_seconds: duración del viaje en segundos"
   ]
  },
  {
   "cell_type": "markdown",
   "metadata": {},
   "source": [
    "<div class=\"alert alert-block alert-danger\">\n",
    "\n",
    "<b>Comentario del revisor</b> <a class=\"tocSkip\"></a>\n",
    "\n",
    "Recorda utilizar el metodo describe() para una exploracion rapida inicial de aquellas variables numéricas. Siempre es necesario realizarlo ya que de forma rápida tenemos un panorama muy bueno de que nos espera e incluso encontraremos inconsistencias si estas existiencen.\n",
    "Describí al respecto lo que ves. </div>\n",
    "\n",
    "<div class=\"alert alert-block alert-danger\">\n",
    "\n",
    "<b>Comentario del revisor</b> <a class=\"tocSkip\"></a>\n",
    "\n",
    "Verifica si existen duplicados </div>\n",
    "\n",
    "<div class=\"alert alert-block alert-success\">\n",
    "​\n",
    "<b>Comentario del revisor #4</b> <a class=\"tocSkip\"></a>\n",
    "    \n",
    "Corregido en la respectiva seccion.\n",
    "</div>"
   ]
  },
  {
   "cell_type": "markdown",
   "metadata": {},
   "source": [
    "Agruparé los datos por tipo de condición climática y duración para tender un panorama más sintetizado de los datos"
   ]
  },
  {
   "cell_type": "code",
   "execution_count": 21,
   "metadata": {},
   "outputs": [
    {
     "name": "stdout",
     "output_type": "stream",
     "text": [
      "weather_conditions\n",
      "Good    1775712.0\n",
      "Bad      436897.0\n",
      "Name: duration_seconds, dtype: float64\n"
     ]
    }
   ],
   "source": [
    "# Duración total de los viajes realizados los sábados por condiciones climáticas\n",
    "saturday_trips = trip_airport[trip_airport['start_ts'].dt.dayofweek == 5]\n",
    "saturday_duration = saturday_trips.groupby('weather_conditions')['duration_seconds'].sum().sort_values(ascending=False)\n",
    "print(saturday_duration)\n"
   ]
  },
  {
   "cell_type": "code",
   "execution_count": 22,
   "metadata": {},
   "outputs": [
    {
     "name": "stdout",
     "output_type": "stream",
     "text": [
      "weather_conditions\n",
      "Good    1775712.0\n",
      "Bad      436897.0\n",
      "Name: duration_seconds, dtype: float64\n"
     ]
    }
   ],
   "source": [
    "# Duración total de los viajes realizados por condiciones climáticas, no solamente en sábado\n",
    "duration = trip_airport.groupby('weather_conditions')['duration_seconds'].sum().sort_values(ascending=False)\n",
    "print(duration)"
   ]
  },
  {
   "cell_type": "markdown",
   "metadata": {},
   "source": [
    "Despúes de realizar un análisis filtrando los datos que son en sábado y los que no son, vemos que el resultado es el mismo, entonces, concluimos que solamente hay datos del día sábado en nuestra base."
   ]
  },
  {
   "cell_type": "markdown",
   "metadata": {},
   "source": [
    "Ahora, agruparé los datos por la cantidad de viajes realizados con base en la condición climática solo para ver cuantos hubo en cada caso"
   ]
  },
  {
   "cell_type": "code",
   "execution_count": 23,
   "metadata": {},
   "outputs": [
    {
     "name": "stdout",
     "output_type": "stream",
     "text": [
      "Cantidad de viajes realizados por condición climática\n",
      "Good    888\n",
      "Bad     180\n",
      "Name: weather_conditions, dtype: int64\n"
     ]
    }
   ],
   "source": [
    "# Cuantos viajes se realizaron en cada condición climática\n",
    "weather_conditions_trips = trip_airport['weather_conditions'].value_counts()\n",
    "print(\"Cantidad de viajes realizados por condición climática\")\n",
    "print(weather_conditions_trips)"
   ]
  },
  {
   "cell_type": "markdown",
   "metadata": {},
   "source": [
    "**Prueba la hipótesis:**\n",
    "\n",
    "\"La duración promedio de los viajes desde el Loop hasta el Aeropuerto Internacional O'Hare cambia los sábados lluviosos\".\n",
    "\n",
    "Entonces pondremos la hipótesis nula como: \n",
    "\n",
    "* La duración promedio de los viajes desde el Loop hasta el Aeropuerto Internacional O'Hare no cambia los sábados lluviosos\n",
    "\n",
    "Y la hipótesis alternativa como:\n",
    "\n",
    "* La duración promedio de los viajes desde el Loop hasta el Aeropuerto Internacional O'Hare cambia los sábados lluviosos\n",
    "\n",
    "\n"
   ]
  },
  {
   "cell_type": "markdown",
   "metadata": {},
   "source": [
    "Para realizar la prueba de hipótesis primero revisar que las varianzas sean igual, para ver si ajusto el parametro a True o False. Esto lo haré el test de Barlett"
   ]
  },
  {
   "cell_type": "code",
   "execution_count": 24,
   "metadata": {},
   "outputs": [
    {
     "name": "stdout",
     "output_type": "stream",
     "text": [
      "Estadístico de prueba: 0.761489489513128\n",
      "Valor p: 0.3828627923399983\n",
      "No se rechaza la hipótesis nula: las varianzas son iguales\n"
     ]
    }
   ],
   "source": [
    "h0 = trip_airport[(trip_airport['weather_conditions'] != 'Bad') & (trip_airport['start_ts'].dt.dayofweek == 5)]['duration_seconds']\n",
    "h1 = trip_airport[(trip_airport['weather_conditions'] == 'Bad') & (trip_airport['start_ts'].dt.dayofweek == 5)]['duration_seconds']\n",
    "\n",
    "# Realiza el test de Bartlett\n",
    "statistic, p_value = bartlett(h0, h1)\n",
    "\n",
    "# Mostrar el resultado\n",
    "print(\"Estadístico de prueba:\", statistic)\n",
    "print(\"Valor p:\", p_value)\n",
    "\n",
    "# Comprueba el valor p para determinar si las varianzas son iguales\n",
    "if p_value > 0.05:\n",
    "    print(\"No se rechaza la hipótesis nula: las varianzas son iguales\")\n",
    "else:\n",
    "    print(\"Se rechaza la hipótesis nula: las varianzas no son iguales\")\n"
   ]
  },
  {
   "cell_type": "markdown",
   "metadata": {},
   "source": [
    "Entonces, como las varianzas son iguales, pondré el parametro en True en el siguiente codigo."
   ]
  },
  {
   "cell_type": "code",
   "execution_count": 25,
   "metadata": {},
   "outputs": [
    {
     "name": "stdout",
     "output_type": "stream",
     "text": [
      "t_stat: -6.946177714041499\n",
      "p_value: 6.517970327099473e-12\n",
      "Rechazamos la hipótesis nula\n",
      "Promedio de duración de los viajes los sábados no lluviosos: 1999.6756756756756\n",
      "Promedio de duración de los viajes los sábados lluviosos: 2427.2055555555557\n"
     ]
    }
   ],
   "source": [
    "# H0: Duración de los viajes los sábados no lluviosos\n",
    "# H1: Duración de los viajes los sábados lluviosos\n",
    "h0 = trip_airport[(trip_airport['weather_conditions'] != 'Bad') & (trip_airport['start_ts'].dt.dayofweek == 5)]['duration_seconds']\n",
    "h1 = trip_airport[(trip_airport['weather_conditions'] == 'Bad') & (trip_airport['start_ts'].dt.dayofweek == 5)]['duration_seconds']\n",
    "\n",
    "# Prueba de hipótesis\n",
    "t_stat, p_value = scipy.stats.ttest_ind(h0, h1, equal_var=True)\n",
    "print('t_stat:', t_stat)\n",
    "print('p_value:', p_value)\n",
    "alpha = 0.05\n",
    "if p_value < alpha:\n",
    "    print('Rechazamos la hipótesis nula')\n",
    "else:\n",
    "    print('No rechazamos la hipótesis nula')\n",
    "\n",
    "# Promedio de duración de los viajes los sábados no lluviosos y lluviosos\n",
    "print('Promedio de duración de los viajes los sábados no lluviosos:', h0.mean())\n",
    "print('Promedio de duración de los viajes los sábados lluviosos:', h1.mean())\n",
    "    \n",
    "\n",
    "\n"
   ]
  },
  {
   "cell_type": "markdown",
   "metadata": {},
   "source": [
    "<div class=\"alert alert-block alert-danger\">\n",
    "<b>Comentario del revisor</b> <a class=\"tocSkip\"></a>\n",
    "\n",
    "El parametro equal_var es muy importante para este tipo de pruebas y en este caso no lo utilizas.\n",
    "\n",
    "Observamos dos opciones, una, si las varianzas para cada conjunto son diferentes (False). Si fueran iguales (True), puede que el resultado cambie, ya que se calcula de forma diferente. Mas que nada cuando la distribucion de las muestras son desiguales (como en este caso).\n",
    "\n",
    "Por esto es importante, cuando realizamos esta prueba (t student). Confirmar si las varianzas son iguales o no para ambos conjuntos. Para esto se realizan **pruebas estadisticas** (Por ejemplo, levene) para identificar si son iguales o no las varianzas.\n",
    "\n",
    "Al realizarla ajusta el parametro si fuera necesario y si cambian los resultados modifica la conclusion.</div>\n",
    "\n",
    "<div class=\"alert alert-block alert-success\">\n",
    "​\n",
    "<b>Comentario del revisor #4</b> <a class=\"tocSkip\"></a>\n",
    "    \n",
    "Corregido, excelente uso de Levene.\n",
    "</div>\n",
    "\n",
    "<div class=\"alert alert-block alert-warning\">\n",
    "<b>Comentario del revisor</b> <a class=\"tocSkip\"></a>\n",
    "\n",
    "Simplemente a modo de consejo, cuando realizamos este tipo de prueba, los outliers pueden modificarla. Por lo que generalmente se recomienda tratarlos antes  de realizar la prueba.\n",
    "</div>"
   ]
  },
  {
   "cell_type": "markdown",
   "metadata": {},
   "source": [
    "**Conclusiones sobre la prueba de hipótesis**\n",
    "\n",
    "Fue un poco complicado codificar las hipótesis hula y alternativa de la hipótesis geeneral \"La duración promedio de los viajes desde el Loop hasta el Aeropuerto Internacional O'Hare cambia los sábados lluviosos\"\n",
    "\n",
    "Primero establecimos como hipótesis nula que los viajes no cambian los sábados lluviosos, y la hipótesis alternativa sería que los viajes cambian los sábados lluviosos. Y para poder responder esto, en código, nuestra hipótesis nula seria realmente los viajes que se realizan los sábados en dias no lluviosos, y compararlo, con los que se realizan los viajes los sábados lluviosos.\n",
    "\n",
    "Después de aplicar la prueba de hipótesis, rechazamos la nula, entonces, se acepto la alternativa , es decir, que si cambia la duración de los viajes en los sábados lluviosos. Luego, para poder darle más validez a estos resultados, se obtuvo la media de los viajes realizados en sábado con clima lluvioso y no, y se pudo apreciar como tambien ahí se muestra como el promedio del tiempo de los viajes realizados del barrio de Loop al Aeropuerto Internacional O'Hare aumenta en los días lluviosos.\n",
    " \n"
   ]
  },
  {
   "cell_type": "markdown",
   "metadata": {},
   "source": [
    "## Conclusiones generales\n",
    "\n",
    "Por cultura popular sabemos que cuando lluve el tráfico aumenta y los tiempos de traslado se extienden, pero pudimos comprobar esto de una forma estadística. Con esta información, la o las compañias de taxis pueden crear estrategias de marketing para promocionar sus tiempos de traslado, o por lo menos, avisar con tiempo a los pasajeros, y puedan tomar sus precacuciones, y también, crear estrategias operativas para tener unidades en los lugares que se necesitan en los tiempos que se necesitan.\n",
    "\n",
    "Y en general, se pudo analizar al principio del estudio la cantidad de viajes que realiza cada compañia el 15 y 16 de noviembre, y asi, identificar quienes pueden ser las compañias lideres, y revisar que características comparten, ya sea por ejemplo precio, servicio, cantidad de unidades entre otros factores.\n",
    "\n",
    "También, se determinaron los principales barrios en donde se terminan más viajes, igual con esto, revisar que características comparte la población en cada uno, así como la infrastructura de cada zona, por ejemplo, podría ser que en unas no se cuentan con medios de transporte eficientes y/o seguros como metro o rutas de autobus.\n",
    "\n",
    "Con estas conclusiones, la empresa Zuber podrá tomar mejores decisiones y afinar sus proyecciones.\n",
    "\n"
   ]
  },
  {
   "cell_type": "markdown",
   "metadata": {},
   "source": [
    "<div class=\"alert alert-block alert-success\">\n",
    "\n",
    "<b>Comentario del revisor</b> <a class=\"tocSkip\"></a>\n",
    "\n",
    "Excelentes conclusiones sobre la prueba estadistica.</div>"
   ]
  },
  {
   "cell_type": "markdown",
   "metadata": {},
   "source": [
    "<div class=\"alert alert-block alert-danger\">\n",
    "\n",
    "<b>Comentario del revisor</b> <a class=\"tocSkip\"></a>\n",
    "\n",
    "Recorda realizar una conclusion general. Esta debe contener todo lo que se hizo en el proyecto de forma enumerada o items.\n",
    "\n",
    "Desde la carga e importacion, pasando por los cambios realizado (Y el porque de esas decisiones). Agregando lo que se hizo en cada seccion a modo resumen y las conclusiones del  trabajo.\n",
    "\n",
    "Sirve como resumen de lo realizado en cada proyecto.</div>\n",
    "\n",
    "<div class=\"alert alert-block alert-success\">\n",
    "​\n",
    "<b>Comentario del revisor #4</b> <a class=\"tocSkip\"></a>\n",
    "    \n",
    "Corregido, muy bien.\n",
    "</div>"
   ]
  },
  {
   "cell_type": "code",
   "execution_count": null,
   "metadata": {},
   "outputs": [],
   "source": []
  }
 ],
 "metadata": {
  "kernelspec": {
   "display_name": "Python 3 (ipykernel)",
   "language": "python",
   "name": "python3"
  },
  "language_info": {
   "codemirror_mode": {
    "name": "ipython",
    "version": 3
   },
   "file_extension": ".py",
   "mimetype": "text/x-python",
   "name": "python",
   "nbconvert_exporter": "python",
   "pygments_lexer": "ipython3",
   "version": "3.9.5"
  },
  "toc": {
   "base_numbering": 1,
   "nav_menu": {},
   "number_sections": true,
   "sideBar": true,
   "skip_h1_title": true,
   "title_cell": "Table of Contents",
   "title_sidebar": "Contents",
   "toc_cell": false,
   "toc_position": {},
   "toc_section_display": true,
   "toc_window_display": true
  }
 },
 "nbformat": 4,
 "nbformat_minor": 2
}
